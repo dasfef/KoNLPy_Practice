{
 "cells": [
  {
   "cell_type": "code",
   "execution_count": 19,
   "metadata": {},
   "outputs": [
    {
     "name": "stdout",
     "output_type": "stream",
     "text": [
      "DB 연결 성공\n",
      "DB 연결 닫음\n"
     ]
    }
   ],
   "source": [
    "import pymysql\n",
    "\n",
    "db = None\n",
    "try : \n",
    "    db = pymysql.connect(host='127.0.0.1', user='root', passwd='bigdatar', db='homestead', port=3307, charset='utf8')\n",
    "    print(\"DB 연결 성공\")\n",
    "except Exception as e:\n",
    "    print(e)\n",
    "\n",
    "finally:\n",
    "    if db is not None :\n",
    "        db.close()\n",
    "        print(\"DB 연결 닫음\")"
   ]
  }
 ],
 "metadata": {
  "kernelspec": {
   "display_name": "KoNLPy",
   "language": "python",
   "name": "python3"
  },
  "language_info": {
   "codemirror_mode": {
    "name": "ipython",
    "version": 3
   },
   "file_extension": ".py",
   "mimetype": "text/x-python",
   "name": "python",
   "nbconvert_exporter": "python",
   "pygments_lexer": "ipython3",
   "version": "3.9.16"
  },
  "orig_nbformat": 4
 },
 "nbformat": 4,
 "nbformat_minor": 2
}
