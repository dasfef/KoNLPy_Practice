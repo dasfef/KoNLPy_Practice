{
 "cells": [
  {
   "cell_type": "code",
   "execution_count": 1,
   "metadata": {},
   "outputs": [],
   "source": [
    "import matplotlib.pyplot as plt\n",
    "import tensorflow as tf\n",
    "from tensorflow.keras import preprocessing\n",
    "from sklearn.model_selection import train_test_split\n",
    "import numpy as np"
   ]
  },
  {
   "cell_type": "code",
   "execution_count": 2,
   "metadata": {},
   "outputs": [],
   "source": [
    "# 학습 파일 불러오기\n",
    "def read_file(file_name) :\n",
    "    sents = []\n",
    "    with open(file_name, 'r', encoding='utf-8') as f:\n",
    "        lines = f.readlines()\n",
    "        for idx, l in enumerate(lines):\n",
    "            if l[0] == ';' and lines[idx + 1][0] == '$':\n",
    "                this_sent = []\n",
    "            elif l[0] == '$' and lines[idx - 1][0] == ';':\n",
    "                continue\n",
    "            elif l[0] == '\\n':\n",
    "                sents.append(this_sent)\n",
    "            else:\n",
    "                this_sent.append(tuple(l.split()))\n",
    "    return sents"
   ]
  },
  {
   "cell_type": "code",
   "execution_count": 3,
   "metadata": {},
   "outputs": [
    {
     "name": "stdout",
     "output_type": "stream",
     "text": [
      "샘플 크기 : \n",
      " 3555\n"
     ]
    }
   ],
   "source": [
    "# 학습용 말뭉치 데이터 불러오기\n",
    "corpus = read_file('KoreanNERCorpus/modified/train.txt')\n",
    "\n",
    "# 말뭉치 데이터에서 단어와 BIO 태그만 불러와 학습용 데이터셋 생성\n",
    "sentences, tags = [], []\n",
    "for t in corpus:\n",
    "    tagged_sentence = []\n",
    "    sentence, bio_tag = [], []\n",
    "    for w in t:\n",
    "        tagged_sentence.append((w[1], w[3]))\n",
    "        sentence.append(w[1])\n",
    "        bio_tag.append(w[3])\n",
    "\n",
    "    sentences.append(sentence)\n",
    "    tags.append(bio_tag)\n",
    "\n",
    "print(\"샘플 크기 : \\n\", len(sentences))"
   ]
  },
  {
   "cell_type": "code",
   "execution_count": 4,
   "metadata": {},
   "outputs": [
    {
     "name": "stdout",
     "output_type": "stream",
     "text": [
      "0번째 샘플 문장 시퀀스 : \n",
      " ['한편', ',', 'AFC', '챔피언스', '리그', 'E', '조', '에', '속하', 'ㄴ', '포항', '역시', '대회', '8강', '진출', '이', '불투명', '하', '다', '.']\n",
      "0번째 샘플 bio 태그 : \n",
      " ['O', 'O', 'O', 'O', 'O', 'B_OG', 'I', 'O', 'O', 'O', 'O', 'O', 'O', 'O', 'O', 'O', 'O', 'O', 'O', 'O']\n",
      "샘플 문장 시퀀스 최대 길이 :  168\n",
      "샘플 문장 시퀀스 평균 길이 :  34.03909985935302\n"
     ]
    }
   ],
   "source": [
    "print(\"0번째 샘플 문장 시퀀스 : \\n\", sentences[0])\n",
    "print(\"0번째 샘플 bio 태그 : \\n\", tags[0])\n",
    "print(\"샘플 문장 시퀀스 최대 길이 : \", max(len(l) for l in sentences))\n",
    "print(\"샘플 문장 시퀀스 평균 길이 : \", (sum(map(len, sentences))/len(sentences)))"
   ]
  },
  {
   "cell_type": "code",
   "execution_count": 5,
   "metadata": {},
   "outputs": [
    {
     "name": "stdout",
     "output_type": "stream",
     "text": [
      "BIO 태그 사전 크기 :  8\n",
      "단어 사전 크기 :  13834\n"
     ]
    }
   ],
   "source": [
    "# 토크나이저 정의\n",
    "sent_tokenizer = preprocessing.text.Tokenizer(oov_token='00V')      # 첫번째 인덱스에는 00V 사용\n",
    "sent_tokenizer.fit_on_texts(sentences)\n",
    "tag_tokenizer = preprocessing.text.Tokenizer(lower=False)           # 태그 정보는 lower=False 소문자로 변환하지 않는다\n",
    "tag_tokenizer.fit_on_texts(tags)\n",
    "\n",
    "# 단어 사전 및 태그 사전 크기\n",
    "vocab_size = len(sent_tokenizer.word_index) + 1\n",
    "tag_size = len(tag_tokenizer.word_index) + 1\n",
    "print(\"BIO 태그 사전 크기 : \", tag_size)\n",
    "print(\"단어 사전 크기 : \", vocab_size)"
   ]
  },
  {
   "cell_type": "code",
   "execution_count": 6,
   "metadata": {},
   "outputs": [
    {
     "name": "stdout",
     "output_type": "stream",
     "text": [
      "[183, 11, 4276, 884, 162, 931, 402, 10, 2608, 7, 1516, 608, 145, 1361, 414, 4, 6347, 2, 8, 3]\n",
      "[1, 1, 1, 1, 1, 3, 2, 1, 1, 1, 1, 1, 1, 1, 1, 1, 1, 1, 1, 1]\n"
     ]
    }
   ],
   "source": [
    "# 학습용 단어 시퀀스 생성\n",
    "x_train = sent_tokenizer.texts_to_sequences(sentences)\n",
    "y_train = tag_tokenizer.texts_to_sequences(tags)\n",
    "print(x_train[0])\n",
    "print(y_train[0])"
   ]
  },
  {
   "cell_type": "code",
   "execution_count": 7,
   "metadata": {},
   "outputs": [],
   "source": [
    "# index to word / index to NER 정의\n",
    "index_to_word = sent_tokenizer.index_word       # 시퀀스 인덱스를 단어로 변환하기 위해 사용\n",
    "index_to_ner = tag_tokenizer.index_word         # 시퀀스 인덱스를 NER로 변환하기 위해 사용\n",
    "index_to_ner[0] = 'PAD'\n",
    "\n",
    "# 시퀀스 패딩 처리\n",
    "max_len = 40\n",
    "x_train = preprocessing.sequence.pad_sequences(x_train, padding='post', maxlen=max_len)\n",
    "y_train = preprocessing.sequence.pad_sequences(y_train, padding='post', maxlen=max_len)\n",
    "\n",
    "# 학습 데이터와 테스트 데이터를 8:2 비율로 분리\n",
    "x_train, x_test, y_train, y_test = train_test_split(x_train, y_train, test_size=.2, random_state=0)"
   ]
  },
  {
   "cell_type": "code",
   "execution_count": 8,
   "metadata": {},
   "outputs": [
    {
     "name": "stdout",
     "output_type": "stream",
     "text": [
      "학습 샘플 시퀀스 형상 :  (2844, 40)\n",
      "학습 샘플 레이블 형상 :  (2844, 40, 8)\n",
      "테스트 샘플 시퀀스 형상 :  (711, 40)\n",
      "테스트 샘플 레이블 형상 :  (711, 40, 8)\n"
     ]
    }
   ],
   "source": [
    "# 출력 데이터를 원-핫 인코딩\n",
    "y_train = tf.keras.utils.to_categorical(y_train, num_classes=tag_size)\n",
    "y_test = tf.keras.utils.to_categorical(y_test, num_classes=tag_size)\n",
    "\n",
    "print(\"학습 샘플 시퀀스 형상 : \", x_train.shape)\n",
    "print(\"학습 샘플 레이블 형상 : \", y_train.shape)\n",
    "print(\"테스트 샘플 시퀀스 형상 : \", x_test.shape)\n",
    "print(\"테스트 샘플 레이블 형상 : \", y_test.shape)"
   ]
  },
  {
   "cell_type": "code",
   "execution_count": 9,
   "metadata": {},
   "outputs": [
    {
     "name": "stdout",
     "output_type": "stream",
     "text": [
      "Epoch 1/10\n",
      "23/23 [==============================] - 11s 352ms/step - loss: 0.6991 - accuracy: 0.8371\n",
      "Epoch 2/10\n",
      "23/23 [==============================] - 9s 393ms/step - loss: 0.3140 - accuracy: 0.9002\n",
      "Epoch 3/10\n",
      "23/23 [==============================] - 10s 420ms/step - loss: 0.2225 - accuracy: 0.9237\n",
      "Epoch 4/10\n",
      "23/23 [==============================] - 11s 465ms/step - loss: 0.1683 - accuracy: 0.9429\n",
      "Epoch 5/10\n",
      "23/23 [==============================] - 11s 456ms/step - loss: 0.1272 - accuracy: 0.9586\n",
      "Epoch 6/10\n",
      "23/23 [==============================] - 11s 458ms/step - loss: 0.0894 - accuracy: 0.9727\n",
      "Epoch 7/10\n",
      "23/23 [==============================] - 10s 449ms/step - loss: 0.0642 - accuracy: 0.9803\n",
      "Epoch 8/10\n",
      "23/23 [==============================] - 10s 446ms/step - loss: 0.0541 - accuracy: 0.9829\n",
      "Epoch 9/10\n",
      "23/23 [==============================] - 11s 457ms/step - loss: 0.0411 - accuracy: 0.9871\n",
      "Epoch 10/10\n",
      "23/23 [==============================] - 11s 473ms/step - loss: 0.0353 - accuracy: 0.9890\n",
      "23/23 [==============================] - 2s 79ms/step - loss: 0.2925 - accuracy: 0.9348\n",
      "평가 결과 :  0.9347836971282959\n"
     ]
    }
   ],
   "source": [
    "# 모델 정의(Bi-LSTM)\n",
    "from tensorflow.keras.models import Sequential\n",
    "from tensorflow.keras.layers import LSTM, Embedding, Dense, TimeDistributed, Dropout, Bidirectional\n",
    "from tensorflow.keras.optimizers import Adam\n",
    "\n",
    "model = Sequential()\n",
    "model.add(Embedding(input_dim=vocab_size, output_dim=30, input_length=max_len, mask_zero=True))\n",
    "model.add(Bidirectional(LSTM(200, return_sequences=True, dropout=0.50, recurrent_dropout=0.25)))\n",
    "model.add(TimeDistributed(Dense(tag_size, activation='softmax')))\n",
    "model.compile(loss='categorical_crossentropy', optimizer=Adam(0.01), metrics=['accuracy'])\n",
    "model.fit(x_train, y_train, batch_size=128, epochs=10)\n",
    "\n",
    "print(\"평가 결과 : \", model.evaluate(x_test, y_test)[1])"
   ]
  },
  {
   "cell_type": "code",
   "execution_count": 10,
   "metadata": {},
   "outputs": [],
   "source": [
    "# 시퀀스를 NER 태그로 변환\n",
    "def sequences_to_tag(sequences) :\n",
    "    result = []\n",
    "    for sequence in sequences:\n",
    "        temp = []\n",
    "        for pred in sequence:\n",
    "            pred_index = np.argmax(pred)\n",
    "            temp.append(index_to_ner[pred_index].replace(\"PAD\", \"0\"))\n",
    "        result.append(temp)\n",
    "    return result"
   ]
  },
  {
   "cell_type": "code",
   "execution_count": 13,
   "metadata": {},
   "outputs": [
    {
     "name": "stdout",
     "output_type": "stream",
     "text": [
      "23/23 [==============================] - 1s 62ms/step\n"
     ]
    },
    {
     "name": "stderr",
     "output_type": "stream",
     "text": [
      "c:\\Users\\User\\anaconda3\\envs\\KoNLPy\\lib\\site-packages\\seqeval\\metrics\\sequence_labeling.py:171: UserWarning: B_DT seems not to be NE tag.\n",
      "  warnings.warn('{} seems not to be NE tag.'.format(chunk))\n",
      "c:\\Users\\User\\anaconda3\\envs\\KoNLPy\\lib\\site-packages\\seqeval\\metrics\\sequence_labeling.py:171: UserWarning: 0 seems not to be NE tag.\n",
      "  warnings.warn('{} seems not to be NE tag.'.format(chunk))\n",
      "c:\\Users\\User\\anaconda3\\envs\\KoNLPy\\lib\\site-packages\\seqeval\\metrics\\sequence_labeling.py:171: UserWarning: B_PS seems not to be NE tag.\n",
      "  warnings.warn('{} seems not to be NE tag.'.format(chunk))\n",
      "c:\\Users\\User\\anaconda3\\envs\\KoNLPy\\lib\\site-packages\\seqeval\\metrics\\sequence_labeling.py:171: UserWarning: B_OG seems not to be NE tag.\n",
      "  warnings.warn('{} seems not to be NE tag.'.format(chunk))\n",
      "c:\\Users\\User\\anaconda3\\envs\\KoNLPy\\lib\\site-packages\\seqeval\\metrics\\sequence_labeling.py:171: UserWarning: B_TI seems not to be NE tag.\n",
      "  warnings.warn('{} seems not to be NE tag.'.format(chunk))\n",
      "c:\\Users\\User\\anaconda3\\envs\\KoNLPy\\lib\\site-packages\\seqeval\\metrics\\sequence_labeling.py:171: UserWarning: B_LC seems not to be NE tag.\n",
      "  warnings.warn('{} seems not to be NE tag.'.format(chunk))\n"
     ]
    },
    {
     "name": "stdout",
     "output_type": "stream",
     "text": [
      "              precision    recall  f1-score   support\n",
      "\n",
      "           _       0.58      0.58      0.58       644\n",
      "         _DT       0.93      0.89      0.91       335\n",
      "         _LC       0.69      0.55      0.61       312\n",
      "         _OG       0.70      0.53      0.61       481\n",
      "         _PS       0.77      0.42      0.54       374\n",
      "         _TI       0.80      0.77      0.78        66\n",
      "\n",
      "   micro avg       0.71      0.59      0.64      2212\n",
      "   macro avg       0.74      0.62      0.67      2212\n",
      "weighted avg       0.71      0.59      0.64      2212\n",
      "\n",
      "F1-score: 64.4%\n"
     ]
    }
   ],
   "source": [
    "# 테스트 데이터셋의 NER 예측\n",
    "y_predicted = model.predict(x_test)\n",
    "pred_tags = sequences_to_tag(y_predicted)       # 예측된 NER\n",
    "test_tags = sequences_to_tag(y_test)            # 실제 NER\n",
    "\n",
    "# F1 스코어 계산을 위해 사용\n",
    "from seqeval.metrics import f1_score, classification_report\n",
    "print(classification_report(test_tags, pred_tags))\n",
    "print(\"F1-score: {:.1%}\".format(f1_score(test_tags, pred_tags)))"
   ]
  },
  {
   "cell_type": "code",
   "execution_count": 18,
   "metadata": {},
   "outputs": [
    {
     "name": "stdout",
     "output_type": "stream",
     "text": [
      "새로운 유형의 시퀀스 :  [531, 286, 1, 1476, 1, 6766, 1]\n",
      "1/1 [==============================] - 0s 20ms/step\n",
      "단어         예측된 NER\n",
      "--------------------------------------------------\n",
      "삼성전자       B_OG \n",
      "오늘         B_DT \n",
      "출시한        O    \n",
      "스마트폰       O    \n",
      "애플에        O    \n",
      "도전장        O    \n",
      "내밀다        O    \n"
     ]
    }
   ],
   "source": [
    "# 새로운 유형의 문장 NER 예측\n",
    "word_to_index = sent_tokenizer.word_index\n",
    "new_input = str(input(\"새로운 문장 입력 : \"))\n",
    "new_sentence = new_input.split()\n",
    "new_x = []\n",
    "for w in new_sentence:\n",
    "    try:\n",
    "        new_x.append(word_to_index.get(w, 1))\n",
    "    except KeyError:\n",
    "        # 모르는 단어의 경우 00V\n",
    "        new_x.append(word_to_index['00V'])\n",
    "\n",
    "print(\"새로운 유형의 시퀀스 : \", new_x)\n",
    "new_padded_seqs = preprocessing.sequence.pad_sequences([new_x], padding='post', value=0, maxlen=max_len)\n",
    "\n",
    "# NER 예측\n",
    "p = model.predict(np.array([new_padded_seqs[0]]))\n",
    "p = np.argmax(p, axis=-1)\n",
    "\n",
    "print(\"{:10} {:5}\".format(\"단어\", \"예측된 NER\"))\n",
    "print(\"-\" * 50)\n",
    "for w, pred in zip(new_sentence, p[0]):\n",
    "    print(\"{:10} {:5}\".format(w, index_to_ner[pred]))"
   ]
  }
 ],
 "metadata": {
  "kernelspec": {
   "display_name": "KoNLPy",
   "language": "python",
   "name": "python3"
  },
  "language_info": {
   "codemirror_mode": {
    "name": "ipython",
    "version": 3
   },
   "file_extension": ".py",
   "mimetype": "text/x-python",
   "name": "python",
   "nbconvert_exporter": "python",
   "pygments_lexer": "ipython3",
   "version": "3.9.16"
  },
  "orig_nbformat": 4
 },
 "nbformat": 4,
 "nbformat_minor": 2
}
