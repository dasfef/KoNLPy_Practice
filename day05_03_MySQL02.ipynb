{
 "cells": [
  {
   "cell_type": "code",
   "execution_count": 17,
   "metadata": {},
   "outputs": [],
   "source": [
    "import pymysql\n",
    "\n",
    "db = None\n",
    "try :\n",
    "    db = pymysql.connect(host='127.0.0.1', user='root', passwd='bigdatar', db='homestead', charset='utf8', port=3307)\n",
    "\n",
    "    # 테이블 생성 sql 정의\n",
    "    sql = '''create table if not exists `chatbot_train_data`(\n",
    "    `id` int unsigned not null auto_increment,\n",
    "    `intent` varchar(45) null,\n",
    "    `ner` varchar(1024) null,\n",
    "    `query` text null,\n",
    "    `answer` text not null,\n",
    "    `answer_image` varchar(2048) null,\n",
    "    primary key(`id`))\n",
    "    engine = InnoDB DEFAULT charset=utf8;\n",
    "    '''\n",
    "    \n",
    "    # 테이블 생성\n",
    "    with db.cursor() as cursor:\n",
    "        cursor.execute(sql)\n",
    "\n",
    "except Exception as e :\n",
    "    print(e)\n",
    "\n",
    "finally:\n",
    "    if db is not None:\n",
    "        db.close()\n"
   ]
  }
 ],
 "metadata": {
  "kernelspec": {
   "display_name": "KoNLPy",
   "language": "python",
   "name": "python3"
  },
  "language_info": {
   "codemirror_mode": {
    "name": "ipython",
    "version": 3
   },
   "file_extension": ".py",
   "mimetype": "text/x-python",
   "name": "python",
   "nbconvert_exporter": "python",
   "pygments_lexer": "ipython3",
   "version": "3.9.16"
  },
  "orig_nbformat": 4
 },
 "nbformat": 4,
 "nbformat_minor": 2
}
